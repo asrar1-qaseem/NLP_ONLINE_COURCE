{
  "nbformat": 4,
  "nbformat_minor": 0,
  "metadata": {
    "colab": {
      "provenance": []
    },
    "kernelspec": {
      "name": "python3",
      "display_name": "Python 3"
    },
    "language_info": {
      "name": "python"
    }
  },
  "cells": [
    {
      "cell_type": "code",
      "source": [
        "!pip install transformers"
      ],
      "metadata": {
        "colab": {
          "base_uri": "https://localhost:8080/"
        },
        "id": "hUCjC2EU2jnv",
        "outputId": "12d99108-302c-4d5d-fd9f-adadb5c0f98a"
      },
      "execution_count": null,
      "outputs": [
        {
          "output_type": "stream",
          "name": "stdout",
          "text": [
            "Requirement already satisfied: transformers in /usr/local/lib/python3.10/dist-packages (4.37.2)\n",
            "Requirement already satisfied: filelock in /usr/local/lib/python3.10/dist-packages (from transformers) (3.13.1)\n",
            "Requirement already satisfied: huggingface-hub<1.0,>=0.19.3 in /usr/local/lib/python3.10/dist-packages (from transformers) (0.20.3)\n",
            "Requirement already satisfied: numpy>=1.17 in /usr/local/lib/python3.10/dist-packages (from transformers) (1.25.2)\n",
            "Requirement already satisfied: packaging>=20.0 in /usr/local/lib/python3.10/dist-packages (from transformers) (23.2)\n",
            "Requirement already satisfied: pyyaml>=5.1 in /usr/local/lib/python3.10/dist-packages (from transformers) (6.0.1)\n",
            "Requirement already satisfied: regex!=2019.12.17 in /usr/local/lib/python3.10/dist-packages (from transformers) (2023.12.25)\n",
            "Requirement already satisfied: requests in /usr/local/lib/python3.10/dist-packages (from transformers) (2.31.0)\n",
            "Requirement already satisfied: tokenizers<0.19,>=0.14 in /usr/local/lib/python3.10/dist-packages (from transformers) (0.15.2)\n",
            "Requirement already satisfied: safetensors>=0.4.1 in /usr/local/lib/python3.10/dist-packages (from transformers) (0.4.2)\n",
            "Requirement already satisfied: tqdm>=4.27 in /usr/local/lib/python3.10/dist-packages (from transformers) (4.66.2)\n",
            "Requirement already satisfied: fsspec>=2023.5.0 in /usr/local/lib/python3.10/dist-packages (from huggingface-hub<1.0,>=0.19.3->transformers) (2023.6.0)\n",
            "Requirement already satisfied: typing-extensions>=3.7.4.3 in /usr/local/lib/python3.10/dist-packages (from huggingface-hub<1.0,>=0.19.3->transformers) (4.9.0)\n",
            "Requirement already satisfied: charset-normalizer<4,>=2 in /usr/local/lib/python3.10/dist-packages (from requests->transformers) (3.3.2)\n",
            "Requirement already satisfied: idna<4,>=2.5 in /usr/local/lib/python3.10/dist-packages (from requests->transformers) (3.6)\n",
            "Requirement already satisfied: urllib3<3,>=1.21.1 in /usr/local/lib/python3.10/dist-packages (from requests->transformers) (2.0.7)\n",
            "Requirement already satisfied: certifi>=2017.4.17 in /usr/local/lib/python3.10/dist-packages (from requests->transformers) (2024.2.2)\n"
          ]
        }
      ]
    },
    {
      "cell_type": "code",
      "source": [
        "from transformers import pipeline\n",
        "import textwrap\n",
        "import numpy as np\n",
        "from pprint import pprint\n",
        "#gen=pipeline(\"text-generation\", model=\"bert-base-arabic\")\n",
        "#prompt=\"وأنا الذي أحمل في جوفي نارًا، ولا أظهرها في أثوابي للناسِ فإذا ما استحقتُ يومًا أن أخطيءَ، فإنني لا أُخفي الخطايا عن نفسي وإن الناسَ لا يغفرون لنا، ولا نغفرُ لهم إلا بإذنِ اللهِ فاعف عني يا ربُّ فإنكَ قادرٌ، وأنا ضعيفٌ ومنكَ المعونةُ\"\n"
      ],
      "metadata": {
        "id": "juP0lP2axcEC"
      },
      "execution_count": null,
      "outputs": []
    },
    {
      "cell_type": "code",
      "source": [
        "gen=pipeline(\"text-generation\", model=\"aubmindlab/aragpt2-medium\")"
      ],
      "metadata": {
        "id": "kJHqF9We9Ayc"
      },
      "execution_count": null,
      "outputs": []
    },
    {
      "cell_type": "code",
      "source": [
        "#أمرؤ القيس\n",
        "prompt=\"ألا هبي بالليل فتبلغ فؤادي وأنصتي فإن الليل له أسرارَ\"\n",
        "gen(prompt)"
      ],
      "metadata": {
        "colab": {
          "base_uri": "https://localhost:8080/"
        },
        "id": "AKXx0tFR9NVY",
        "outputId": "3961a2f7-e0ab-49ac-c23d-69f1a41f9d31"
      },
      "execution_count": null,
      "outputs": [
        {
          "output_type": "stream",
          "name": "stderr",
          "text": [
            "Setting `pad_token_id` to `eos_token_id`:0 for open-end generation.\n"
          ]
        },
        {
          "output_type": "execute_result",
          "data": {
            "text/plain": [
              "[{'generated_text': 'ألا هبي بالليل فتبلغ فؤادي وأنصتي فإن الليل له أسرارَ ياصاحبي.. ( 1 2 3... الصفحة الأخيرة )عنوان الموضوع المشاركة الأخيرة تاريخ بداية الموضوع عدد الردود عدد المشاهدات كاتب الموضوع'}]"
            ]
          },
          "metadata": {},
          "execution_count": 13
        }
      ]
    },
    {
      "cell_type": "code",
      "source": [
        "s=gen(prompt)"
      ],
      "metadata": {
        "colab": {
          "base_uri": "https://localhost:8080/"
        },
        "id": "dtz3Nzqg_IDx",
        "outputId": "b105d88c-e4ba-4574-ddd7-36d036bda240"
      },
      "execution_count": null,
      "outputs": [
        {
          "output_type": "stream",
          "name": "stderr",
          "text": [
            "Setting `pad_token_id` to `eos_token_id`:0 for open-end generation.\n"
          ]
        }
      ]
    },
    {
      "cell_type": "code",
      "source": [
        "print(s[0]['generated_text'])"
      ],
      "metadata": {
        "colab": {
          "base_uri": "https://localhost:8080/"
        },
        "id": "mbSTn0Qa_ntc",
        "outputId": "07a31f0e-c7ce-433a-8998-ebb5eb4407d7"
      },
      "execution_count": null,
      "outputs": [
        {
          "output_type": "stream",
          "name": "stdout",
          "text": [
            "ألا هبي بالليل فتبلغ فؤادي وأنصتي فإن الليل له أسرارَ من بين أوراقي...لوحة تحكم العضوه الرسائل الخاصة الاشتراكات المتواجدات الآن البحث في المنتدى الصفحة الرئيسية للمنتدى الملتقى الدعوي على طريق الدعوه بقلمك\n"
          ]
        }
      ]
    },
    {
      "cell_type": "code",
      "source": [
        "text=\"الشعر الجاهلي العربي\"\n",
        "gen(txet,max_length=100)\n"
      ],
      "metadata": {
        "colab": {
          "base_uri": "https://localhost:8080/"
        },
        "id": "hgyCMxtRCn9p",
        "outputId": "64d2319a-ac3a-49c9-d87b-2330befe8a9b"
      },
      "execution_count": null,
      "outputs": [
        {
          "output_type": "stream",
          "name": "stderr",
          "text": [
            "Setting `pad_token_id` to `eos_token_id`:0 for open-end generation.\n"
          ]
        },
        {
          "output_type": "execute_result",
          "data": {
            "text/plain": [
              "[{'generated_text': 'الشعر الجاهلي العربي ، أو شعر التفعيلة ، هو مجموعة من القصائد التي كتبها شعراء عرب في العصر الجاهلي.وإذا كان الشعر الجاهلي قد كتب قبل الإسلام بقرون عديدة ، فإن هذا الشعر لم يكتب إلا بعد ظهور الإسلام بأكثر من أربعة عشر قرنا ، أي منذ وفاة النبي محمد ( صلى الله عليه وسلم ) وحتى نهاية القرن الثاني الهجري.وعلى الرغم من أن القرآن الكريم قد تحدث عن الشعراء الجاهليين الذين كتبوا الشعر الجاهلي ، فإنه لم يتحدث عن هؤلاء الشعراء ولم يذكر أسماءهم ، بل اكتفى بذكر'}]"
            ]
          },
          "metadata": {},
          "execution_count": 19
        }
      ]
    },
    {
      "cell_type": "code",
      "source": [
        "pprint(_)"
      ],
      "metadata": {
        "colab": {
          "base_uri": "https://localhost:8080/"
        },
        "id": "ljfExoWYDM4h",
        "outputId": "a1712c54-c839-43ff-d3d8-57dadda06f4e"
      },
      "execution_count": null,
      "outputs": [
        {
          "output_type": "stream",
          "name": "stdout",
          "text": [
            "[{'generated_text': 'الشعر الجاهلي العربي ، أو شعر التفعيلة ، هو مجموعة من '\n",
            "                    'القصائد التي كتبها شعراء عرب في العصر الجاهلي.وإذا كان '\n",
            "                    'الشعر الجاهلي قد كتب قبل الإسلام بقرون عديدة ، فإن هذا '\n",
            "                    'الشعر لم يكتب إلا بعد ظهور الإسلام بأكثر من أربعة عشر '\n",
            "                    'قرنا ، أي منذ وفاة النبي محمد ( صلى الله عليه وسلم ) وحتى '\n",
            "                    'نهاية القرن الثاني الهجري.وعلى الرغم من أن القرآن الكريم '\n",
            "                    'قد تحدث عن الشعراء الجاهليين الذين كتبوا الشعر الجاهلي ، '\n",
            "                    'فإنه لم يتحدث عن هؤلاء الشعراء ولم يذكر أسماءهم ، بل '\n",
            "                    'اكتفى بذكر'}]\n"
          ]
        }
      ]
    },
    {
      "cell_type": "code",
      "source": [
        "pprint(gen('الخيل والبيداءتعرفوني والسيف والرمح والقرطاس',max_length=50))"
      ],
      "metadata": {
        "colab": {
          "base_uri": "https://localhost:8080/"
        },
        "id": "8pVak4IIFHbV",
        "outputId": "e5702f46-0d69-43be-b21a-e683edd70d0f"
      },
      "execution_count": null,
      "outputs": [
        {
          "output_type": "stream",
          "name": "stderr",
          "text": [
            "Setting `pad_token_id` to `eos_token_id`:0 for open-end generation.\n"
          ]
        },
        {
          "output_type": "stream",
          "name": "stdout",
          "text": [
            "[{'generated_text': 'الخيل والبيداءتعرفوني والسيف والرمح والقرطاس والجافي '\n",
            "                    'والكيوي والكامل والنابلسي والرزيني والمقرنصطفى '\n",
            "                    'النورساوسيليلى على حمسلسل قيامة ارطغرل الجزء الخامس '\n",
            "                    'الحلقة الثالثة مترجمة اونلاين HD المسلسل'}]\n"
          ]
        }
      ]
    },
    {
      "cell_type": "code",
      "source": [
        "pprint(gen('الخيل والبيداءتعرفوني والسيف والرمح والقرطاس',num_return_sequences=4,max_length=50))"
      ],
      "metadata": {
        "colab": {
          "base_uri": "https://localhost:8080/"
        },
        "id": "-EOp3KQaEl7T",
        "outputId": "8bea3c5f-9624-4f82-c3df-a81636545861"
      },
      "execution_count": null,
      "outputs": [
        {
          "output_type": "stream",
          "name": "stderr",
          "text": [
            "Setting `pad_token_id` to `eos_token_id`:0 for open-end generation.\n"
          ]
        },
        {
          "output_type": "stream",
          "name": "stdout",
          "text": [
            "[{'generated_text': 'الخيل والبيداءتعرفوني والسيف والرمح والقرطاس '\n",
            "                    'والجعبريأقلام ترسم قوس قزح ( اخر مشاركة : صوت الوطن - '\n",
            "                    'عددالردود : 0 - عددالزوار : 4543 ) » العاب اطفال - لعبة '\n",
            "                    'صالون الكروشيه - بلاي ستيشن'},\n",
            " {'generated_text': 'الخيل والبيداءتعرفوني والسيف والرمح والقرطاس '\n",
            "                    'والجعبريأقلام ترسم قوس قزح ( اخر مشاركة : صوت الوطن - '\n",
            "                    'عددالردود : 0 - عددالزوار : 4543 ) » العاب اطفال - لعبة '\n",
            "                    'صالون الاطفال بالرياض - من مملكة'},\n",
            " {'generated_text': 'الخيل والبيداءتعرفوني والسيف والرمح والقرطاس '\n",
            "                    'والجعبريأقلام ترسم قوس قزح ( اخر مشاركة : صوت الوطن - '\n",
            "                    'عددالردود : 0 - عددالزوار : 4543 ) » العاب اطفال - لعبة '\n",
            "                    'صالون الاطفال زكرون ( اخر'},\n",
            " {'generated_text': 'الخيل والبيداءتعرفوني والسيف والرمح والقرطاس '\n",
            "                    'والجعبريأقلام ترسم قوس قزح ( اخر مشاركة : صوت الوطن - '\n",
            "                    'عددالردود : 0 - عددالزوار : 4543 ) » العاب اطفال - لعبة '\n",
            "                    'صالون الاطفال بالرياض - منتجات -'}]\n"
          ]
        }
      ]
    },
    {
      "cell_type": "code",
      "source": [
        "def wrap(x):\n",
        "  return textwrap.fill(x,replace_whitespace=False,fix_sentence_endings=True)"
      ],
      "metadata": {
        "id": "k6R3AO0kIOUh"
      },
      "execution_count": null,
      "outputs": []
    },
    {
      "cell_type": "code",
      "source": [
        "print(wrap(gen('لا تخاف من الفشل بل من عدم المحاولة',max_length=20)[0]['generated_text']))"
      ],
      "metadata": {
        "colab": {
          "base_uri": "https://localhost:8080/"
        },
        "id": "3KSt4XmtOOL4",
        "outputId": "315f3c00-dc3c-4cc1-fa40-7af2ea65a489"
      },
      "execution_count": null,
      "outputs": [
        {
          "output_type": "stream",
          "name": "stderr",
          "text": [
            "Setting `pad_token_id` to `eos_token_id`:0 for open-end generation.\n"
          ]
        },
        {
          "output_type": "stream",
          "name": "stdout",
          "text": [
            "لا تخاف من الفشل بل من عدم المحاولة. تشعر أنك بحاجة لإيصال أفكارك\n",
            "للآخرين. ابتعد عن السهر …\n"
          ]
        }
      ]
    }
  ]
}